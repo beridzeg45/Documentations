{
  "nbformat": 4,
  "nbformat_minor": 0,
  "metadata": {
    "colab": {
      "provenance": [],
      "collapsed_sections": []
    },
    "kernelspec": {
      "name": "python3",
      "display_name": "Python 3"
    },
    "language_info": {
      "name": "python"
    }
  },
  "cells": [
    {
      "cell_type": "code",
      "execution_count": 10,
      "metadata": {
        "id": "UdI2ryK9BkE6"
      },
      "outputs": [],
      "source": [
        "import tensorflow as tf\n",
        "import numpy as np \n",
        "import pandas as pd \n",
        "import matplotlib.pyplot as plt \n",
        "from sklearn.preprocessing import MinMaxScaler\n",
        "from keras.models import Sequential\n",
        "from keras.layers import Dense,LSTM,Dropout"
      ]
    },
    {
      "cell_type": "code",
      "source": [
        "data=pd.read_csv('Google_train_data.csv')"
      ],
      "metadata": {
        "id": "7YG7otsiDfuT"
      },
      "execution_count": 12,
      "outputs": []
    },
    {
      "cell_type": "code",
      "source": [
        "data[\"Close\"]=pd.to_numeric(data.Close,errors='coerce')\n",
        "data = data.dropna()\n",
        "trainData = data.iloc[:,4:5].values"
      ],
      "metadata": {
        "id": "CuAsCD0bDlD3"
      },
      "execution_count": 13,
      "outputs": []
    },
    {
      "cell_type": "code",
      "source": [
        "sc = MinMaxScaler(feature_range=(0,1))\n",
        "trainData = sc.fit_transform(trainData)\n",
        "trainData.shape"
      ],
      "metadata": {
        "colab": {
          "base_uri": "https://localhost:8080/"
        },
        "id": "aMb0vPr9Dwgf",
        "outputId": "c8a22a7c-b678-40eb-9cfc-3ba5cc2db0e2"
      },
      "execution_count": 14,
      "outputs": [
        {
          "output_type": "execute_result",
          "data": {
            "text/plain": [
              "(1149, 1)"
            ]
          },
          "metadata": {},
          "execution_count": 14
        }
      ]
    },
    {
      "cell_type": "code",
      "source": [
        "X_train = []\n",
        "y_train = []\n",
        "\n",
        "for i in range (60,1149): #60 : timestep // 1149 : length of the data\n",
        "    X_train.append(trainData[i-60:i,0]) \n",
        "    y_train.append(trainData[i,0])\n",
        "\n",
        "X_train,y_train = np.array(X_train),np.array(y_train)"
      ],
      "metadata": {
        "id": "Ko4DDNT6DyGQ"
      },
      "execution_count": 15,
      "outputs": []
    },
    {
      "cell_type": "code",
      "source": [
        "X_train = np.reshape(X_train,(X_train.shape[0],X_train.shape[1],1)) #adding the batch_size axis\n",
        "X_train.shape"
      ],
      "metadata": {
        "colab": {
          "base_uri": "https://localhost:8080/"
        },
        "id": "HcgwoaO-DzlE",
        "outputId": "11d3df5c-e417-4c17-cd4c-03e8c7928c04"
      },
      "execution_count": 16,
      "outputs": [
        {
          "output_type": "execute_result",
          "data": {
            "text/plain": [
              "(1089, 60, 1)"
            ]
          },
          "metadata": {},
          "execution_count": 16
        }
      ]
    },
    {
      "cell_type": "code",
      "source": [
        "model = Sequential()\n",
        "\n",
        "model.add(LSTM(units=100, return_sequences = True, input_shape =(X_train.shape[1],1)))\n",
        "model.add(Dropout(0.2))\n",
        "\n",
        "model.add(LSTM(units=100, return_sequences = True))\n",
        "model.add(Dropout(0.2))\n",
        "\n",
        "model.add(LSTM(units=100, return_sequences = True))\n",
        "model.add(Dropout(0.2))\n",
        "\n",
        "model.add(LSTM(units=100, return_sequences = False))\n",
        "model.add(Dropout(0.2))\n",
        "\n",
        "model.add(Dense(units =1))\n",
        "model.compile(optimizer='adam',loss=\"mean_squared_error\")"
      ],
      "metadata": {
        "id": "nqg6WZXXD0-Z"
      },
      "execution_count": 17,
      "outputs": []
    },
    {
      "cell_type": "code",
      "source": [
        "hist = model.fit(X_train, y_train, epochs = 20, batch_size = 32, verbose=2)"
      ],
      "metadata": {
        "colab": {
          "base_uri": "https://localhost:8080/"
        },
        "id": "JPEhTeSXD2zJ",
        "outputId": "20c4df4b-c385-4fac-c016-de0ddcbf9eea"
      },
      "execution_count": 18,
      "outputs": [
        {
          "output_type": "stream",
          "name": "stdout",
          "text": [
            "Epoch 1/20\n",
            "35/35 - 18s - loss: 0.0388 - 18s/epoch - 522ms/step\n",
            "Epoch 2/20\n",
            "35/35 - 7s - loss: 0.0117 - 7s/epoch - 196ms/step\n",
            "Epoch 3/20\n",
            "35/35 - 9s - loss: 0.0097 - 9s/epoch - 249ms/step\n",
            "Epoch 4/20\n",
            "35/35 - 9s - loss: 0.0082 - 9s/epoch - 270ms/step\n",
            "Epoch 5/20\n",
            "35/35 - 8s - loss: 0.0097 - 8s/epoch - 216ms/step\n",
            "Epoch 6/20\n",
            "35/35 - 7s - loss: 0.0076 - 7s/epoch - 209ms/step\n",
            "Epoch 7/20\n",
            "35/35 - 7s - loss: 0.0075 - 7s/epoch - 195ms/step\n",
            "Epoch 8/20\n",
            "35/35 - 7s - loss: 0.0063 - 7s/epoch - 213ms/step\n",
            "Epoch 9/20\n",
            "35/35 - 7s - loss: 0.0061 - 7s/epoch - 197ms/step\n",
            "Epoch 10/20\n",
            "35/35 - 7s - loss: 0.0056 - 7s/epoch - 195ms/step\n",
            "Epoch 11/20\n",
            "35/35 - 7s - loss: 0.0062 - 7s/epoch - 197ms/step\n",
            "Epoch 12/20\n",
            "35/35 - 9s - loss: 0.0054 - 9s/epoch - 245ms/step\n",
            "Epoch 13/20\n",
            "35/35 - 7s - loss: 0.0056 - 7s/epoch - 197ms/step\n",
            "Epoch 14/20\n",
            "35/35 - 9s - loss: 0.0053 - 9s/epoch - 254ms/step\n",
            "Epoch 15/20\n",
            "35/35 - 7s - loss: 0.0050 - 7s/epoch - 196ms/step\n",
            "Epoch 16/20\n",
            "35/35 - 7s - loss: 0.0052 - 7s/epoch - 197ms/step\n",
            "Epoch 17/20\n",
            "35/35 - 7s - loss: 0.0049 - 7s/epoch - 198ms/step\n",
            "Epoch 18/20\n",
            "35/35 - 8s - loss: 0.0055 - 8s/epoch - 232ms/step\n",
            "Epoch 19/20\n",
            "35/35 - 7s - loss: 0.0051 - 7s/epoch - 197ms/step\n",
            "Epoch 20/20\n",
            "35/35 - 7s - loss: 0.0045 - 7s/epoch - 195ms/step\n"
          ]
        }
      ]
    },
    {
      "cell_type": "code",
      "source": [
        "plt.plot(hist.history['loss'])\n",
        "plt.title('Training model loss')\n",
        "plt.ylabel('loss')\n",
        "plt.xlabel('epoch')\n",
        "plt.legend(['train'], loc='upper left')\n",
        "plt.show()"
      ],
      "metadata": {
        "colab": {
          "base_uri": "https://localhost:8080/",
          "height": 295
        },
        "id": "5ilH_iU8D40p",
        "outputId": "516beba0-c737-44ea-e16a-bf9688d7fcbf"
      },
      "execution_count": 19,
      "outputs": [
        {
          "output_type": "display_data",
          "data": {
            "text/plain": [
              "<Figure size 432x288 with 1 Axes>"
            ],
            "image/png": "[encoded data removed]"
          },
          "metadata": {
            "needs_background": "light"
          }
        }
      ]
    },
    {
      "cell_type": "code",
      "source": [
        "testData = pd.read_csv('Google_test_data.csv')\n",
        "testData[\"Close\"]=pd.to_numeric(testData.Close,errors='coerce')\n",
        "testData = testData.dropna()\n",
        "testData = testData.iloc[:,4:5]\n",
        "y_test = testData.iloc[60:,0:].values \n",
        "#input array for the model\n",
        "inputClosing = testData.iloc[:,0:].values \n",
        "inputClosing_scaled = sc.transform(inputClosing)\n",
        "inputClosing_scaled.shape\n",
        "X_test = []\n",
        "length = len(testData)\n",
        "timestep = 60\n",
        "for i in range(timestep,length):  \n",
        "    X_test.append(inputClosing_scaled[i-timestep:i,0])\n",
        "X_test = np.array(X_test)\n",
        "X_test = np.reshape(X_test,(X_test.shape[0],X_test.shape[1],1))\n",
        "X_test.shape"
      ],
      "metadata": {
        "colab": {
          "base_uri": "https://localhost:8080/"
        },
        "id": "Qb0-xo4WEg7P",
        "outputId": "6de406d0-7bd0-44c6-d9c4-ca6874b122f6"
      },
      "execution_count": 20,
      "outputs": [
        {
          "output_type": "execute_result",
          "data": {
            "text/plain": [
              "(192, 60, 1)"
            ]
          },
          "metadata": {},
          "execution_count": 20
        }
      ]
    },
    {
      "cell_type": "code",
      "source": [
        "y_pred = model.predict(X_test)\n",
        "#y_pred"
      ],
      "metadata": {
        "colab": {
          "base_uri": "https://localhost:8080/"
        },
        "id": "3kZ1P-v0EjKc",
        "outputId": "2ee10dee-d4ad-4d60-86d0-b218e8cbd228"
      },
      "execution_count": 26,
      "outputs": [
        {
          "output_type": "stream",
          "name": "stdout",
          "text": [
            "6/6 [==============================] - 0s 64ms/step\n"
          ]
        }
      ]
    },
    {
      "cell_type": "code",
      "source": [
        "predicted_price = sc.inverse_transform(y_pred)"
      ],
      "metadata": {
        "id": "x1kcchsmElF4"
      },
      "execution_count": 22,
      "outputs": []
    },
    {
      "cell_type": "code",
      "source": [
        "plt.plot(y_test, color = 'red', label = 'Actual Stock Price')\n",
        "plt.plot(predicted_price, color = 'green', label = 'Predicted Stock Price')\n",
        "plt.title('Google stock price prediction')\n",
        "plt.xlabel('Time')\n",
        "plt.ylabel('Stock Price')\n",
        "plt.legend()\n",
        "plt.show()"
      ],
      "metadata": {
        "colab": {
          "base_uri": "https://localhost:8080/",
          "height": 295
        },
        "id": "8TnR_7HbEpEV",
        "outputId": "25799708-a5d8-482a-c00c-b730bbcbd534"
      },
      "execution_count": 23,
      "outputs": [
        {
          "output_type": "display_data",
          "data": {
            "text/plain": [
              "<Figure size 432x288 with 1 Axes>"
            ],
            "image/png": "[encoded data removed]"
          },
          "metadata": {
            "needs_background": "light"
          }
        }
      ]
    },
    {
      "cell_type": "code",
      "source": [],
      "metadata": {
        "id": "Lr3haqDYFekl"
      },
      "execution_count": null,
      "outputs": []
    }
  ]
}